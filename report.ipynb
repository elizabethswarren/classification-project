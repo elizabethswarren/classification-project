{
 "cells": [
  {
   "cell_type": "markdown",
   "id": "438316ef",
   "metadata": {},
   "source": [
    "# Classification Project"
   ]
  },
  {
   "cell_type": "code",
   "execution_count": 1,
   "id": "3bbb957d",
   "metadata": {},
   "outputs": [],
   "source": [
    "import pandas as pd\n",
    "import numpy as np\n",
    "\n",
    "import matplotlib.pyplot as plt\n",
    "import seaborn as sns\n",
    "import os\n",
    "\n",
    "from sklearn.model_selection import train_test_split\n",
    "import sklearn.preprocessing\n",
    "from sklearn.tree import DecisionTreeClassifier, plot_tree\n",
    "from sklearn.ensemble import RandomForestClassifier\n",
    "from sklearn.neighbors import KNeighborsClassifier\n",
    "from sklearn.linear_model import LogisticRegression\n",
    "from sklearn.metrics import confusion_matrix, classification_report\n",
    "\n",
    "#import warnings\n",
    "#warnings.filterwarnings(\"ignore\")\n",
    "\n",
    "from scipy import stats\n",
    "import acquire\n",
    "import prepare"
   ]
  },
  {
   "cell_type": "markdown",
   "id": "efd0aa65",
   "metadata": {},
   "source": [
    "## Acquire\n",
    "    * Data acquired from Codeup database.\n",
    "    * 24 columns and 7043 rows before cleaning.\n",
    "    * Each row is a customer with the telco company.\n",
    "    * Each column contains information about the customer and their services with telco."
   ]
  },
  {
   "cell_type": "markdown",
   "id": "6a4acebc",
   "metadata": {},
   "source": [
    "## Prepare\n",
    "    * Removed any duplicate rows from the dataset.\n",
    "    * Dropped columns that had no useful information\n",
    "    * Cleaned the total charges column and converted values to floats.\n",
    "    * Filled null values in total charges with median value of column.\n",
    "        * Median was used due to outliers skewing the mean.\n",
    "    * Encoded categorical data.\n",
    "    * Split the data into train, validate, split in a 50, 30, 20 split, stratified on churn."
   ]
  },
  {
   "cell_type": "code",
   "execution_count": 2,
   "id": "0e5605d3",
   "metadata": {},
   "outputs": [],
   "source": [
    "# acquire the data\n",
    "telco = acquire.get_telco_data()"
   ]
  },
  {
   "cell_type": "code",
   "execution_count": 3,
   "id": "0111b39b",
   "metadata": {},
   "outputs": [
    {
     "name": "stdout",
     "output_type": "stream",
     "text": [
      "<class 'pandas.core.frame.DataFrame'>\n",
      "RangeIndex: 7043 entries, 0 to 7042\n",
      "Data columns (total 24 columns):\n",
      " #   Column                    Non-Null Count  Dtype  \n",
      "---  ------                    --------------  -----  \n",
      " 0   internet_service_type_id  7043 non-null   int64  \n",
      " 1   contract_type_id          7043 non-null   int64  \n",
      " 2   payment_type_id           7043 non-null   int64  \n",
      " 3   customer_id               7043 non-null   object \n",
      " 4   gender                    7043 non-null   object \n",
      " 5   senior_citizen            7043 non-null   int64  \n",
      " 6   partner                   7043 non-null   object \n",
      " 7   dependents                7043 non-null   object \n",
      " 8   tenure                    7043 non-null   int64  \n",
      " 9   phone_service             7043 non-null   object \n",
      " 10  multiple_lines            7043 non-null   object \n",
      " 11  online_security           7043 non-null   object \n",
      " 12  online_backup             7043 non-null   object \n",
      " 13  device_protection         7043 non-null   object \n",
      " 14  tech_support              7043 non-null   object \n",
      " 15  streaming_tv              7043 non-null   object \n",
      " 16  streaming_movies          7043 non-null   object \n",
      " 17  paperless_billing         7043 non-null   object \n",
      " 18  monthly_charges           7043 non-null   float64\n",
      " 19  total_charges             7043 non-null   object \n",
      " 20  churn                     7043 non-null   object \n",
      " 21  payment_type              7043 non-null   object \n",
      " 22  contract_type             7043 non-null   object \n",
      " 23  internet_service_type     7043 non-null   object \n",
      "dtypes: float64(1), int64(5), object(18)\n",
      "memory usage: 1.3+ MB\n"
     ]
    }
   ],
   "source": [
    "# get information on the data\n",
    "telco.info()"
   ]
  },
  {
   "cell_type": "code",
   "execution_count": 4,
   "id": "5c74d42e",
   "metadata": {},
   "outputs": [
    {
     "data": {
      "text/html": [
       "<div>\n",
       "<style scoped>\n",
       "    .dataframe tbody tr th:only-of-type {\n",
       "        vertical-align: middle;\n",
       "    }\n",
       "\n",
       "    .dataframe tbody tr th {\n",
       "        vertical-align: top;\n",
       "    }\n",
       "\n",
       "    .dataframe thead th {\n",
       "        text-align: right;\n",
       "    }\n",
       "</style>\n",
       "<table border=\"1\" class=\"dataframe\">\n",
       "  <thead>\n",
       "    <tr style=\"text-align: right;\">\n",
       "      <th></th>\n",
       "      <th>0</th>\n",
       "      <th>1</th>\n",
       "      <th>2</th>\n",
       "      <th>3</th>\n",
       "      <th>4</th>\n",
       "    </tr>\n",
       "  </thead>\n",
       "  <tbody>\n",
       "    <tr>\n",
       "      <th>internet_service_type_id</th>\n",
       "      <td>1</td>\n",
       "      <td>1</td>\n",
       "      <td>2</td>\n",
       "      <td>2</td>\n",
       "      <td>2</td>\n",
       "    </tr>\n",
       "    <tr>\n",
       "      <th>contract_type_id</th>\n",
       "      <td>2</td>\n",
       "      <td>1</td>\n",
       "      <td>1</td>\n",
       "      <td>1</td>\n",
       "      <td>1</td>\n",
       "    </tr>\n",
       "    <tr>\n",
       "      <th>payment_type_id</th>\n",
       "      <td>2</td>\n",
       "      <td>2</td>\n",
       "      <td>1</td>\n",
       "      <td>1</td>\n",
       "      <td>2</td>\n",
       "    </tr>\n",
       "    <tr>\n",
       "      <th>customer_id</th>\n",
       "      <td>0002-ORFBO</td>\n",
       "      <td>0003-MKNFE</td>\n",
       "      <td>0004-TLHLJ</td>\n",
       "      <td>0011-IGKFF</td>\n",
       "      <td>0013-EXCHZ</td>\n",
       "    </tr>\n",
       "    <tr>\n",
       "      <th>gender</th>\n",
       "      <td>Female</td>\n",
       "      <td>Male</td>\n",
       "      <td>Male</td>\n",
       "      <td>Male</td>\n",
       "      <td>Female</td>\n",
       "    </tr>\n",
       "    <tr>\n",
       "      <th>senior_citizen</th>\n",
       "      <td>0</td>\n",
       "      <td>0</td>\n",
       "      <td>0</td>\n",
       "      <td>1</td>\n",
       "      <td>1</td>\n",
       "    </tr>\n",
       "    <tr>\n",
       "      <th>partner</th>\n",
       "      <td>Yes</td>\n",
       "      <td>No</td>\n",
       "      <td>No</td>\n",
       "      <td>Yes</td>\n",
       "      <td>Yes</td>\n",
       "    </tr>\n",
       "    <tr>\n",
       "      <th>dependents</th>\n",
       "      <td>Yes</td>\n",
       "      <td>No</td>\n",
       "      <td>No</td>\n",
       "      <td>No</td>\n",
       "      <td>No</td>\n",
       "    </tr>\n",
       "    <tr>\n",
       "      <th>tenure</th>\n",
       "      <td>9</td>\n",
       "      <td>9</td>\n",
       "      <td>4</td>\n",
       "      <td>13</td>\n",
       "      <td>3</td>\n",
       "    </tr>\n",
       "    <tr>\n",
       "      <th>phone_service</th>\n",
       "      <td>Yes</td>\n",
       "      <td>Yes</td>\n",
       "      <td>Yes</td>\n",
       "      <td>Yes</td>\n",
       "      <td>Yes</td>\n",
       "    </tr>\n",
       "    <tr>\n",
       "      <th>multiple_lines</th>\n",
       "      <td>No</td>\n",
       "      <td>Yes</td>\n",
       "      <td>No</td>\n",
       "      <td>No</td>\n",
       "      <td>No</td>\n",
       "    </tr>\n",
       "    <tr>\n",
       "      <th>online_security</th>\n",
       "      <td>No</td>\n",
       "      <td>No</td>\n",
       "      <td>No</td>\n",
       "      <td>No</td>\n",
       "      <td>No</td>\n",
       "    </tr>\n",
       "    <tr>\n",
       "      <th>online_backup</th>\n",
       "      <td>Yes</td>\n",
       "      <td>No</td>\n",
       "      <td>No</td>\n",
       "      <td>Yes</td>\n",
       "      <td>No</td>\n",
       "    </tr>\n",
       "    <tr>\n",
       "      <th>device_protection</th>\n",
       "      <td>No</td>\n",
       "      <td>No</td>\n",
       "      <td>Yes</td>\n",
       "      <td>Yes</td>\n",
       "      <td>No</td>\n",
       "    </tr>\n",
       "    <tr>\n",
       "      <th>tech_support</th>\n",
       "      <td>Yes</td>\n",
       "      <td>No</td>\n",
       "      <td>No</td>\n",
       "      <td>No</td>\n",
       "      <td>Yes</td>\n",
       "    </tr>\n",
       "    <tr>\n",
       "      <th>streaming_tv</th>\n",
       "      <td>Yes</td>\n",
       "      <td>No</td>\n",
       "      <td>No</td>\n",
       "      <td>Yes</td>\n",
       "      <td>Yes</td>\n",
       "    </tr>\n",
       "    <tr>\n",
       "      <th>streaming_movies</th>\n",
       "      <td>No</td>\n",
       "      <td>Yes</td>\n",
       "      <td>No</td>\n",
       "      <td>Yes</td>\n",
       "      <td>No</td>\n",
       "    </tr>\n",
       "    <tr>\n",
       "      <th>paperless_billing</th>\n",
       "      <td>Yes</td>\n",
       "      <td>No</td>\n",
       "      <td>Yes</td>\n",
       "      <td>Yes</td>\n",
       "      <td>Yes</td>\n",
       "    </tr>\n",
       "    <tr>\n",
       "      <th>monthly_charges</th>\n",
       "      <td>65.6</td>\n",
       "      <td>59.9</td>\n",
       "      <td>73.9</td>\n",
       "      <td>98.0</td>\n",
       "      <td>83.9</td>\n",
       "    </tr>\n",
       "    <tr>\n",
       "      <th>total_charges</th>\n",
       "      <td>593.3</td>\n",
       "      <td>542.4</td>\n",
       "      <td>280.85</td>\n",
       "      <td>1237.85</td>\n",
       "      <td>267.4</td>\n",
       "    </tr>\n",
       "    <tr>\n",
       "      <th>churn</th>\n",
       "      <td>No</td>\n",
       "      <td>No</td>\n",
       "      <td>Yes</td>\n",
       "      <td>Yes</td>\n",
       "      <td>Yes</td>\n",
       "    </tr>\n",
       "    <tr>\n",
       "      <th>payment_type</th>\n",
       "      <td>Mailed check</td>\n",
       "      <td>Mailed check</td>\n",
       "      <td>Electronic check</td>\n",
       "      <td>Electronic check</td>\n",
       "      <td>Mailed check</td>\n",
       "    </tr>\n",
       "    <tr>\n",
       "      <th>contract_type</th>\n",
       "      <td>One year</td>\n",
       "      <td>Month-to-month</td>\n",
       "      <td>Month-to-month</td>\n",
       "      <td>Month-to-month</td>\n",
       "      <td>Month-to-month</td>\n",
       "    </tr>\n",
       "    <tr>\n",
       "      <th>internet_service_type</th>\n",
       "      <td>DSL</td>\n",
       "      <td>DSL</td>\n",
       "      <td>Fiber optic</td>\n",
       "      <td>Fiber optic</td>\n",
       "      <td>Fiber optic</td>\n",
       "    </tr>\n",
       "  </tbody>\n",
       "</table>\n",
       "</div>"
      ],
      "text/plain": [
       "                                     0               1                 2  \\\n",
       "internet_service_type_id             1               1                 2   \n",
       "contract_type_id                     2               1                 1   \n",
       "payment_type_id                      2               2                 1   \n",
       "customer_id                 0002-ORFBO      0003-MKNFE        0004-TLHLJ   \n",
       "gender                          Female            Male              Male   \n",
       "senior_citizen                       0               0                 0   \n",
       "partner                            Yes              No                No   \n",
       "dependents                         Yes              No                No   \n",
       "tenure                               9               9                 4   \n",
       "phone_service                      Yes             Yes               Yes   \n",
       "multiple_lines                      No             Yes                No   \n",
       "online_security                     No              No                No   \n",
       "online_backup                      Yes              No                No   \n",
       "device_protection                   No              No               Yes   \n",
       "tech_support                       Yes              No                No   \n",
       "streaming_tv                       Yes              No                No   \n",
       "streaming_movies                    No             Yes                No   \n",
       "paperless_billing                  Yes              No               Yes   \n",
       "monthly_charges                   65.6            59.9              73.9   \n",
       "total_charges                    593.3           542.4            280.85   \n",
       "churn                               No              No               Yes   \n",
       "payment_type              Mailed check    Mailed check  Electronic check   \n",
       "contract_type                 One year  Month-to-month    Month-to-month   \n",
       "internet_service_type              DSL             DSL       Fiber optic   \n",
       "\n",
       "                                         3               4  \n",
       "internet_service_type_id                 2               2  \n",
       "contract_type_id                         1               1  \n",
       "payment_type_id                          1               2  \n",
       "customer_id                     0011-IGKFF      0013-EXCHZ  \n",
       "gender                                Male          Female  \n",
       "senior_citizen                           1               1  \n",
       "partner                                Yes             Yes  \n",
       "dependents                              No              No  \n",
       "tenure                                  13               3  \n",
       "phone_service                          Yes             Yes  \n",
       "multiple_lines                          No              No  \n",
       "online_security                         No              No  \n",
       "online_backup                          Yes              No  \n",
       "device_protection                      Yes              No  \n",
       "tech_support                            No             Yes  \n",
       "streaming_tv                           Yes             Yes  \n",
       "streaming_movies                       Yes              No  \n",
       "paperless_billing                      Yes             Yes  \n",
       "monthly_charges                       98.0            83.9  \n",
       "total_charges                      1237.85           267.4  \n",
       "churn                                  Yes             Yes  \n",
       "payment_type              Electronic check    Mailed check  \n",
       "contract_type               Month-to-month  Month-to-month  \n",
       "internet_service_type          Fiber optic     Fiber optic  "
      ]
     },
     "execution_count": 4,
     "metadata": {},
     "output_type": "execute_result"
    }
   ],
   "source": [
    "# easier viewing\n",
    "telco.head().T"
   ]
  },
  {
   "cell_type": "code",
   "execution_count": 5,
   "id": "2b91d880",
   "metadata": {},
   "outputs": [],
   "source": [
    "# clean the data\n",
    "telco_clean = prepare.prep_telco(telco)"
   ]
  },
  {
   "cell_type": "code",
   "execution_count": 6,
   "id": "28092aca",
   "metadata": {},
   "outputs": [
    {
     "name": "stdout",
     "output_type": "stream",
     "text": [
      "<class 'pandas.core.frame.DataFrame'>\n",
      "Int64Index: 7043 entries, 0 to 7042\n",
      "Data columns (total 47 columns):\n",
      " #   Column                                 Non-Null Count  Dtype  \n",
      "---  ------                                 --------------  -----  \n",
      " 0   gender                                 7043 non-null   object \n",
      " 1   senior_citizen                         7043 non-null   int64  \n",
      " 2   partner                                7043 non-null   object \n",
      " 3   dependents                             7043 non-null   object \n",
      " 4   tenure                                 7043 non-null   int64  \n",
      " 5   phone_service                          7043 non-null   object \n",
      " 6   multiple_lines                         7043 non-null   object \n",
      " 7   online_security                        7043 non-null   object \n",
      " 8   online_backup                          7043 non-null   object \n",
      " 9   device_protection                      7043 non-null   object \n",
      " 10  tech_support                           7043 non-null   object \n",
      " 11  streaming_tv                           7043 non-null   object \n",
      " 12  streaming_movies                       7043 non-null   object \n",
      " 13  paperless_billing                      7043 non-null   object \n",
      " 14  monthly_charges                        7043 non-null   float64\n",
      " 15  total_charges                          7043 non-null   float64\n",
      " 16  churn                                  7043 non-null   object \n",
      " 17  payment_type                           7043 non-null   object \n",
      " 18  contract_type                          7043 non-null   object \n",
      " 19  internet_service_type                  7043 non-null   object \n",
      " 20  gender_Male                            7043 non-null   uint8  \n",
      " 21  partner_Yes                            7043 non-null   uint8  \n",
      " 22  dependents_Yes                         7043 non-null   uint8  \n",
      " 23  phone_service_Yes                      7043 non-null   uint8  \n",
      " 24  multiple_lines_No_phone_service        7043 non-null   uint8  \n",
      " 25  multiple_lines_Yes                     7043 non-null   uint8  \n",
      " 26  online_security_No_internet_service    7043 non-null   uint8  \n",
      " 27  online_security_Yes                    7043 non-null   uint8  \n",
      " 28  online_backup_No_internet_service      7043 non-null   uint8  \n",
      " 29  online_backup_Yes                      7043 non-null   uint8  \n",
      " 30  device_protection_No_internet_service  7043 non-null   uint8  \n",
      " 31  device_protection_Yes                  7043 non-null   uint8  \n",
      " 32  tech_support_No_internet_service       7043 non-null   uint8  \n",
      " 33  tech_support_Yes                       7043 non-null   uint8  \n",
      " 34  streaming_tv_No_internet_service       7043 non-null   uint8  \n",
      " 35  streaming_tv_Yes                       7043 non-null   uint8  \n",
      " 36  streaming_movies_No_internet_service   7043 non-null   uint8  \n",
      " 37  streaming_movies_Yes                   7043 non-null   uint8  \n",
      " 38  paperless_billing_Yes                  7043 non-null   uint8  \n",
      " 39  churn_Yes                              7043 non-null   uint8  \n",
      " 40  payment_type_Credit_card_(automatic)   7043 non-null   uint8  \n",
      " 41  payment_type_Electronic_check          7043 non-null   uint8  \n",
      " 42  payment_type_Mailed_check              7043 non-null   uint8  \n",
      " 43  contract_type_One_year                 7043 non-null   uint8  \n",
      " 44  contract_type_Two_year                 7043 non-null   uint8  \n",
      " 45  internet_service_type_Fiber_optic      7043 non-null   uint8  \n",
      " 46  internet_service_type_None             7043 non-null   uint8  \n",
      "dtypes: float64(2), int64(2), object(16), uint8(27)\n",
      "memory usage: 1.3+ MB\n"
     ]
    }
   ],
   "source": [
    "# make sure the data is cleaned as expected\n",
    "telco_clean.info()"
   ]
  },
  {
   "cell_type": "code",
   "execution_count": 7,
   "id": "d3263c98",
   "metadata": {},
   "outputs": [
    {
     "data": {
      "text/plain": [
       "gender                                   0\n",
       "senior_citizen                           0\n",
       "partner                                  0\n",
       "dependents                               0\n",
       "tenure                                   0\n",
       "phone_service                            0\n",
       "multiple_lines                           0\n",
       "online_security                          0\n",
       "online_backup                            0\n",
       "device_protection                        0\n",
       "tech_support                             0\n",
       "streaming_tv                             0\n",
       "streaming_movies                         0\n",
       "paperless_billing                        0\n",
       "monthly_charges                          0\n",
       "total_charges                            0\n",
       "churn                                    0\n",
       "payment_type                             0\n",
       "contract_type                            0\n",
       "internet_service_type                    0\n",
       "gender_Male                              0\n",
       "partner_Yes                              0\n",
       "dependents_Yes                           0\n",
       "phone_service_Yes                        0\n",
       "multiple_lines_No_phone_service          0\n",
       "multiple_lines_Yes                       0\n",
       "online_security_No_internet_service      0\n",
       "online_security_Yes                      0\n",
       "online_backup_No_internet_service        0\n",
       "online_backup_Yes                        0\n",
       "device_protection_No_internet_service    0\n",
       "device_protection_Yes                    0\n",
       "tech_support_No_internet_service         0\n",
       "tech_support_Yes                         0\n",
       "streaming_tv_No_internet_service         0\n",
       "streaming_tv_Yes                         0\n",
       "streaming_movies_No_internet_service     0\n",
       "streaming_movies_Yes                     0\n",
       "paperless_billing_Yes                    0\n",
       "churn_Yes                                0\n",
       "payment_type_Credit_card_(automatic)     0\n",
       "payment_type_Electronic_check            0\n",
       "payment_type_Mailed_check                0\n",
       "contract_type_One_year                   0\n",
       "contract_type_Two_year                   0\n",
       "internet_service_type_Fiber_optic        0\n",
       "internet_service_type_None               0\n",
       "dtype: int64"
      ]
     },
     "execution_count": 7,
     "metadata": {},
     "output_type": "execute_result"
    }
   ],
   "source": [
    "# verifying no nulls are present\n",
    "telco_clean.isnull().sum()"
   ]
  },
  {
   "cell_type": "code",
   "execution_count": 8,
   "id": "a9db6236",
   "metadata": {},
   "outputs": [
    {
     "data": {
      "text/plain": [
       "2281.9169281556156"
      ]
     },
     "execution_count": 8,
     "metadata": {},
     "output_type": "execute_result"
    }
   ],
   "source": [
    "# calculating mean to see if it is useful for removing nulls\n",
    "telco_clean.total_charges.mean()"
   ]
  },
  {
   "cell_type": "code",
   "execution_count": 9,
   "id": "225c87e4",
   "metadata": {},
   "outputs": [
    {
     "data": {
      "text/plain": [
       "1397.475"
      ]
     },
     "execution_count": 9,
     "metadata": {},
     "output_type": "execute_result"
    }
   ],
   "source": [
    "# comparing mean to median\n",
    "telco_clean.total_charges.median()"
   ]
  },
  {
   "cell_type": "code",
   "execution_count": 10,
   "id": "cb373027",
   "metadata": {},
   "outputs": [
    {
     "data": {
      "text/plain": [
       "8684.8"
      ]
     },
     "execution_count": 10,
     "metadata": {},
     "output_type": "execute_result"
    }
   ],
   "source": [
    "# finding outlier that may skew mean\n",
    "telco_clean.total_charges.max()"
   ]
  },
  {
   "cell_type": "code",
   "execution_count": 11,
   "id": "561dc250",
   "metadata": {},
   "outputs": [],
   "source": [
    "# split the data\n",
    "train, validate, test = prepare.split_data(telco_clean, 'churn')"
   ]
  },
  {
   "cell_type": "code",
   "execution_count": 12,
   "id": "ea1389b3",
   "metadata": {},
   "outputs": [
    {
     "data": {
      "text/plain": [
       "((3943, 47), (1691, 47), (1409, 47))"
      ]
     },
     "execution_count": 12,
     "metadata": {},
     "output_type": "execute_result"
    }
   ],
   "source": [
    "# confirm the split\n",
    "train.shape, validate.shape, test.shape"
   ]
  },
  {
   "cell_type": "code",
   "execution_count": 13,
   "id": "ef776dfb",
   "metadata": {},
   "outputs": [
    {
     "data": {
      "text/html": [
       "<div>\n",
       "<style scoped>\n",
       "    .dataframe tbody tr th:only-of-type {\n",
       "        vertical-align: middle;\n",
       "    }\n",
       "\n",
       "    .dataframe tbody tr th {\n",
       "        vertical-align: top;\n",
       "    }\n",
       "\n",
       "    .dataframe thead th {\n",
       "        text-align: right;\n",
       "    }\n",
       "</style>\n",
       "<table border=\"1\" class=\"dataframe\">\n",
       "  <thead>\n",
       "    <tr style=\"text-align: right;\">\n",
       "      <th></th>\n",
       "      <th>0</th>\n",
       "      <th>1</th>\n",
       "      <th>2</th>\n",
       "      <th>3</th>\n",
       "      <th>4</th>\n",
       "    </tr>\n",
       "  </thead>\n",
       "  <tbody>\n",
       "    <tr>\n",
       "      <th>gender</th>\n",
       "      <td>Female</td>\n",
       "      <td>Male</td>\n",
       "      <td>Male</td>\n",
       "      <td>Male</td>\n",
       "      <td>Female</td>\n",
       "    </tr>\n",
       "    <tr>\n",
       "      <th>senior_citizen</th>\n",
       "      <td>0</td>\n",
       "      <td>0</td>\n",
       "      <td>0</td>\n",
       "      <td>1</td>\n",
       "      <td>1</td>\n",
       "    </tr>\n",
       "    <tr>\n",
       "      <th>partner</th>\n",
       "      <td>Yes</td>\n",
       "      <td>No</td>\n",
       "      <td>No</td>\n",
       "      <td>Yes</td>\n",
       "      <td>Yes</td>\n",
       "    </tr>\n",
       "    <tr>\n",
       "      <th>dependents</th>\n",
       "      <td>Yes</td>\n",
       "      <td>No</td>\n",
       "      <td>No</td>\n",
       "      <td>No</td>\n",
       "      <td>No</td>\n",
       "    </tr>\n",
       "    <tr>\n",
       "      <th>tenure</th>\n",
       "      <td>9</td>\n",
       "      <td>9</td>\n",
       "      <td>4</td>\n",
       "      <td>13</td>\n",
       "      <td>3</td>\n",
       "    </tr>\n",
       "    <tr>\n",
       "      <th>phone_service</th>\n",
       "      <td>Yes</td>\n",
       "      <td>Yes</td>\n",
       "      <td>Yes</td>\n",
       "      <td>Yes</td>\n",
       "      <td>Yes</td>\n",
       "    </tr>\n",
       "    <tr>\n",
       "      <th>multiple_lines</th>\n",
       "      <td>No</td>\n",
       "      <td>Yes</td>\n",
       "      <td>No</td>\n",
       "      <td>No</td>\n",
       "      <td>No</td>\n",
       "    </tr>\n",
       "    <tr>\n",
       "      <th>online_security</th>\n",
       "      <td>No</td>\n",
       "      <td>No</td>\n",
       "      <td>No</td>\n",
       "      <td>No</td>\n",
       "      <td>No</td>\n",
       "    </tr>\n",
       "    <tr>\n",
       "      <th>online_backup</th>\n",
       "      <td>Yes</td>\n",
       "      <td>No</td>\n",
       "      <td>No</td>\n",
       "      <td>Yes</td>\n",
       "      <td>No</td>\n",
       "    </tr>\n",
       "    <tr>\n",
       "      <th>device_protection</th>\n",
       "      <td>No</td>\n",
       "      <td>No</td>\n",
       "      <td>Yes</td>\n",
       "      <td>Yes</td>\n",
       "      <td>No</td>\n",
       "    </tr>\n",
       "    <tr>\n",
       "      <th>tech_support</th>\n",
       "      <td>Yes</td>\n",
       "      <td>No</td>\n",
       "      <td>No</td>\n",
       "      <td>No</td>\n",
       "      <td>Yes</td>\n",
       "    </tr>\n",
       "    <tr>\n",
       "      <th>streaming_tv</th>\n",
       "      <td>Yes</td>\n",
       "      <td>No</td>\n",
       "      <td>No</td>\n",
       "      <td>Yes</td>\n",
       "      <td>Yes</td>\n",
       "    </tr>\n",
       "    <tr>\n",
       "      <th>streaming_movies</th>\n",
       "      <td>No</td>\n",
       "      <td>Yes</td>\n",
       "      <td>No</td>\n",
       "      <td>Yes</td>\n",
       "      <td>No</td>\n",
       "    </tr>\n",
       "    <tr>\n",
       "      <th>paperless_billing</th>\n",
       "      <td>Yes</td>\n",
       "      <td>No</td>\n",
       "      <td>Yes</td>\n",
       "      <td>Yes</td>\n",
       "      <td>Yes</td>\n",
       "    </tr>\n",
       "    <tr>\n",
       "      <th>monthly_charges</th>\n",
       "      <td>65.6</td>\n",
       "      <td>59.9</td>\n",
       "      <td>73.9</td>\n",
       "      <td>98.0</td>\n",
       "      <td>83.9</td>\n",
       "    </tr>\n",
       "    <tr>\n",
       "      <th>total_charges</th>\n",
       "      <td>593.3</td>\n",
       "      <td>542.4</td>\n",
       "      <td>280.85</td>\n",
       "      <td>1237.85</td>\n",
       "      <td>267.4</td>\n",
       "    </tr>\n",
       "    <tr>\n",
       "      <th>churn</th>\n",
       "      <td>No</td>\n",
       "      <td>No</td>\n",
       "      <td>Yes</td>\n",
       "      <td>Yes</td>\n",
       "      <td>Yes</td>\n",
       "    </tr>\n",
       "    <tr>\n",
       "      <th>payment_type</th>\n",
       "      <td>Mailed check</td>\n",
       "      <td>Mailed check</td>\n",
       "      <td>Electronic check</td>\n",
       "      <td>Electronic check</td>\n",
       "      <td>Mailed check</td>\n",
       "    </tr>\n",
       "    <tr>\n",
       "      <th>contract_type</th>\n",
       "      <td>One year</td>\n",
       "      <td>Month-to-month</td>\n",
       "      <td>Month-to-month</td>\n",
       "      <td>Month-to-month</td>\n",
       "      <td>Month-to-month</td>\n",
       "    </tr>\n",
       "    <tr>\n",
       "      <th>internet_service_type</th>\n",
       "      <td>DSL</td>\n",
       "      <td>DSL</td>\n",
       "      <td>Fiber optic</td>\n",
       "      <td>Fiber optic</td>\n",
       "      <td>Fiber optic</td>\n",
       "    </tr>\n",
       "    <tr>\n",
       "      <th>gender_Male</th>\n",
       "      <td>0</td>\n",
       "      <td>1</td>\n",
       "      <td>1</td>\n",
       "      <td>1</td>\n",
       "      <td>0</td>\n",
       "    </tr>\n",
       "    <tr>\n",
       "      <th>partner_Yes</th>\n",
       "      <td>1</td>\n",
       "      <td>0</td>\n",
       "      <td>0</td>\n",
       "      <td>1</td>\n",
       "      <td>1</td>\n",
       "    </tr>\n",
       "    <tr>\n",
       "      <th>dependents_Yes</th>\n",
       "      <td>1</td>\n",
       "      <td>0</td>\n",
       "      <td>0</td>\n",
       "      <td>0</td>\n",
       "      <td>0</td>\n",
       "    </tr>\n",
       "    <tr>\n",
       "      <th>phone_service_Yes</th>\n",
       "      <td>1</td>\n",
       "      <td>1</td>\n",
       "      <td>1</td>\n",
       "      <td>1</td>\n",
       "      <td>1</td>\n",
       "    </tr>\n",
       "    <tr>\n",
       "      <th>multiple_lines_No_phone_service</th>\n",
       "      <td>0</td>\n",
       "      <td>0</td>\n",
       "      <td>0</td>\n",
       "      <td>0</td>\n",
       "      <td>0</td>\n",
       "    </tr>\n",
       "    <tr>\n",
       "      <th>multiple_lines_Yes</th>\n",
       "      <td>0</td>\n",
       "      <td>1</td>\n",
       "      <td>0</td>\n",
       "      <td>0</td>\n",
       "      <td>0</td>\n",
       "    </tr>\n",
       "    <tr>\n",
       "      <th>online_security_No_internet_service</th>\n",
       "      <td>0</td>\n",
       "      <td>0</td>\n",
       "      <td>0</td>\n",
       "      <td>0</td>\n",
       "      <td>0</td>\n",
       "    </tr>\n",
       "    <tr>\n",
       "      <th>online_security_Yes</th>\n",
       "      <td>0</td>\n",
       "      <td>0</td>\n",
       "      <td>0</td>\n",
       "      <td>0</td>\n",
       "      <td>0</td>\n",
       "    </tr>\n",
       "    <tr>\n",
       "      <th>online_backup_No_internet_service</th>\n",
       "      <td>0</td>\n",
       "      <td>0</td>\n",
       "      <td>0</td>\n",
       "      <td>0</td>\n",
       "      <td>0</td>\n",
       "    </tr>\n",
       "    <tr>\n",
       "      <th>online_backup_Yes</th>\n",
       "      <td>1</td>\n",
       "      <td>0</td>\n",
       "      <td>0</td>\n",
       "      <td>1</td>\n",
       "      <td>0</td>\n",
       "    </tr>\n",
       "    <tr>\n",
       "      <th>device_protection_No_internet_service</th>\n",
       "      <td>0</td>\n",
       "      <td>0</td>\n",
       "      <td>0</td>\n",
       "      <td>0</td>\n",
       "      <td>0</td>\n",
       "    </tr>\n",
       "    <tr>\n",
       "      <th>device_protection_Yes</th>\n",
       "      <td>0</td>\n",
       "      <td>0</td>\n",
       "      <td>1</td>\n",
       "      <td>1</td>\n",
       "      <td>0</td>\n",
       "    </tr>\n",
       "    <tr>\n",
       "      <th>tech_support_No_internet_service</th>\n",
       "      <td>0</td>\n",
       "      <td>0</td>\n",
       "      <td>0</td>\n",
       "      <td>0</td>\n",
       "      <td>0</td>\n",
       "    </tr>\n",
       "    <tr>\n",
       "      <th>tech_support_Yes</th>\n",
       "      <td>1</td>\n",
       "      <td>0</td>\n",
       "      <td>0</td>\n",
       "      <td>0</td>\n",
       "      <td>1</td>\n",
       "    </tr>\n",
       "    <tr>\n",
       "      <th>streaming_tv_No_internet_service</th>\n",
       "      <td>0</td>\n",
       "      <td>0</td>\n",
       "      <td>0</td>\n",
       "      <td>0</td>\n",
       "      <td>0</td>\n",
       "    </tr>\n",
       "    <tr>\n",
       "      <th>streaming_tv_Yes</th>\n",
       "      <td>1</td>\n",
       "      <td>0</td>\n",
       "      <td>0</td>\n",
       "      <td>1</td>\n",
       "      <td>1</td>\n",
       "    </tr>\n",
       "    <tr>\n",
       "      <th>streaming_movies_No_internet_service</th>\n",
       "      <td>0</td>\n",
       "      <td>0</td>\n",
       "      <td>0</td>\n",
       "      <td>0</td>\n",
       "      <td>0</td>\n",
       "    </tr>\n",
       "    <tr>\n",
       "      <th>streaming_movies_Yes</th>\n",
       "      <td>0</td>\n",
       "      <td>1</td>\n",
       "      <td>0</td>\n",
       "      <td>1</td>\n",
       "      <td>0</td>\n",
       "    </tr>\n",
       "    <tr>\n",
       "      <th>paperless_billing_Yes</th>\n",
       "      <td>1</td>\n",
       "      <td>0</td>\n",
       "      <td>1</td>\n",
       "      <td>1</td>\n",
       "      <td>1</td>\n",
       "    </tr>\n",
       "    <tr>\n",
       "      <th>churn_Yes</th>\n",
       "      <td>0</td>\n",
       "      <td>0</td>\n",
       "      <td>1</td>\n",
       "      <td>1</td>\n",
       "      <td>1</td>\n",
       "    </tr>\n",
       "    <tr>\n",
       "      <th>payment_type_Credit_card_(automatic)</th>\n",
       "      <td>0</td>\n",
       "      <td>0</td>\n",
       "      <td>0</td>\n",
       "      <td>0</td>\n",
       "      <td>0</td>\n",
       "    </tr>\n",
       "    <tr>\n",
       "      <th>payment_type_Electronic_check</th>\n",
       "      <td>0</td>\n",
       "      <td>0</td>\n",
       "      <td>1</td>\n",
       "      <td>1</td>\n",
       "      <td>0</td>\n",
       "    </tr>\n",
       "    <tr>\n",
       "      <th>payment_type_Mailed_check</th>\n",
       "      <td>1</td>\n",
       "      <td>1</td>\n",
       "      <td>0</td>\n",
       "      <td>0</td>\n",
       "      <td>1</td>\n",
       "    </tr>\n",
       "    <tr>\n",
       "      <th>contract_type_One_year</th>\n",
       "      <td>1</td>\n",
       "      <td>0</td>\n",
       "      <td>0</td>\n",
       "      <td>0</td>\n",
       "      <td>0</td>\n",
       "    </tr>\n",
       "    <tr>\n",
       "      <th>contract_type_Two_year</th>\n",
       "      <td>0</td>\n",
       "      <td>0</td>\n",
       "      <td>0</td>\n",
       "      <td>0</td>\n",
       "      <td>0</td>\n",
       "    </tr>\n",
       "    <tr>\n",
       "      <th>internet_service_type_Fiber_optic</th>\n",
       "      <td>0</td>\n",
       "      <td>0</td>\n",
       "      <td>1</td>\n",
       "      <td>1</td>\n",
       "      <td>1</td>\n",
       "    </tr>\n",
       "    <tr>\n",
       "      <th>internet_service_type_None</th>\n",
       "      <td>0</td>\n",
       "      <td>0</td>\n",
       "      <td>0</td>\n",
       "      <td>0</td>\n",
       "      <td>0</td>\n",
       "    </tr>\n",
       "  </tbody>\n",
       "</table>\n",
       "</div>"
      ],
      "text/plain": [
       "                                                  0               1  \\\n",
       "gender                                       Female            Male   \n",
       "senior_citizen                                    0               0   \n",
       "partner                                         Yes              No   \n",
       "dependents                                      Yes              No   \n",
       "tenure                                            9               9   \n",
       "phone_service                                   Yes             Yes   \n",
       "multiple_lines                                   No             Yes   \n",
       "online_security                                  No              No   \n",
       "online_backup                                   Yes              No   \n",
       "device_protection                                No              No   \n",
       "tech_support                                    Yes              No   \n",
       "streaming_tv                                    Yes              No   \n",
       "streaming_movies                                 No             Yes   \n",
       "paperless_billing                               Yes              No   \n",
       "monthly_charges                                65.6            59.9   \n",
       "total_charges                                 593.3           542.4   \n",
       "churn                                            No              No   \n",
       "payment_type                           Mailed check    Mailed check   \n",
       "contract_type                              One year  Month-to-month   \n",
       "internet_service_type                           DSL             DSL   \n",
       "gender_Male                                       0               1   \n",
       "partner_Yes                                       1               0   \n",
       "dependents_Yes                                    1               0   \n",
       "phone_service_Yes                                 1               1   \n",
       "multiple_lines_No_phone_service                   0               0   \n",
       "multiple_lines_Yes                                0               1   \n",
       "online_security_No_internet_service               0               0   \n",
       "online_security_Yes                               0               0   \n",
       "online_backup_No_internet_service                 0               0   \n",
       "online_backup_Yes                                 1               0   \n",
       "device_protection_No_internet_service             0               0   \n",
       "device_protection_Yes                             0               0   \n",
       "tech_support_No_internet_service                  0               0   \n",
       "tech_support_Yes                                  1               0   \n",
       "streaming_tv_No_internet_service                  0               0   \n",
       "streaming_tv_Yes                                  1               0   \n",
       "streaming_movies_No_internet_service              0               0   \n",
       "streaming_movies_Yes                              0               1   \n",
       "paperless_billing_Yes                             1               0   \n",
       "churn_Yes                                         0               0   \n",
       "payment_type_Credit_card_(automatic)              0               0   \n",
       "payment_type_Electronic_check                     0               0   \n",
       "payment_type_Mailed_check                         1               1   \n",
       "contract_type_One_year                            1               0   \n",
       "contract_type_Two_year                            0               0   \n",
       "internet_service_type_Fiber_optic                 0               0   \n",
       "internet_service_type_None                        0               0   \n",
       "\n",
       "                                                      2                 3  \\\n",
       "gender                                             Male              Male   \n",
       "senior_citizen                                        0                 1   \n",
       "partner                                              No               Yes   \n",
       "dependents                                           No                No   \n",
       "tenure                                                4                13   \n",
       "phone_service                                       Yes               Yes   \n",
       "multiple_lines                                       No                No   \n",
       "online_security                                      No                No   \n",
       "online_backup                                        No               Yes   \n",
       "device_protection                                   Yes               Yes   \n",
       "tech_support                                         No                No   \n",
       "streaming_tv                                         No               Yes   \n",
       "streaming_movies                                     No               Yes   \n",
       "paperless_billing                                   Yes               Yes   \n",
       "monthly_charges                                    73.9              98.0   \n",
       "total_charges                                    280.85           1237.85   \n",
       "churn                                               Yes               Yes   \n",
       "payment_type                           Electronic check  Electronic check   \n",
       "contract_type                            Month-to-month    Month-to-month   \n",
       "internet_service_type                       Fiber optic       Fiber optic   \n",
       "gender_Male                                           1                 1   \n",
       "partner_Yes                                           0                 1   \n",
       "dependents_Yes                                        0                 0   \n",
       "phone_service_Yes                                     1                 1   \n",
       "multiple_lines_No_phone_service                       0                 0   \n",
       "multiple_lines_Yes                                    0                 0   \n",
       "online_security_No_internet_service                   0                 0   \n",
       "online_security_Yes                                   0                 0   \n",
       "online_backup_No_internet_service                     0                 0   \n",
       "online_backup_Yes                                     0                 1   \n",
       "device_protection_No_internet_service                 0                 0   \n",
       "device_protection_Yes                                 1                 1   \n",
       "tech_support_No_internet_service                      0                 0   \n",
       "tech_support_Yes                                      0                 0   \n",
       "streaming_tv_No_internet_service                      0                 0   \n",
       "streaming_tv_Yes                                      0                 1   \n",
       "streaming_movies_No_internet_service                  0                 0   \n",
       "streaming_movies_Yes                                  0                 1   \n",
       "paperless_billing_Yes                                 1                 1   \n",
       "churn_Yes                                             1                 1   \n",
       "payment_type_Credit_card_(automatic)                  0                 0   \n",
       "payment_type_Electronic_check                         1                 1   \n",
       "payment_type_Mailed_check                             0                 0   \n",
       "contract_type_One_year                                0                 0   \n",
       "contract_type_Two_year                                0                 0   \n",
       "internet_service_type_Fiber_optic                     1                 1   \n",
       "internet_service_type_None                            0                 0   \n",
       "\n",
       "                                                    4  \n",
       "gender                                         Female  \n",
       "senior_citizen                                      1  \n",
       "partner                                           Yes  \n",
       "dependents                                         No  \n",
       "tenure                                              3  \n",
       "phone_service                                     Yes  \n",
       "multiple_lines                                     No  \n",
       "online_security                                    No  \n",
       "online_backup                                      No  \n",
       "device_protection                                  No  \n",
       "tech_support                                      Yes  \n",
       "streaming_tv                                      Yes  \n",
       "streaming_movies                                   No  \n",
       "paperless_billing                                 Yes  \n",
       "monthly_charges                                  83.9  \n",
       "total_charges                                   267.4  \n",
       "churn                                             Yes  \n",
       "payment_type                             Mailed check  \n",
       "contract_type                          Month-to-month  \n",
       "internet_service_type                     Fiber optic  \n",
       "gender_Male                                         0  \n",
       "partner_Yes                                         1  \n",
       "dependents_Yes                                      0  \n",
       "phone_service_Yes                                   1  \n",
       "multiple_lines_No_phone_service                     0  \n",
       "multiple_lines_Yes                                  0  \n",
       "online_security_No_internet_service                 0  \n",
       "online_security_Yes                                 0  \n",
       "online_backup_No_internet_service                   0  \n",
       "online_backup_Yes                                   0  \n",
       "device_protection_No_internet_service               0  \n",
       "device_protection_Yes                               0  \n",
       "tech_support_No_internet_service                    0  \n",
       "tech_support_Yes                                    1  \n",
       "streaming_tv_No_internet_service                    0  \n",
       "streaming_tv_Yes                                    1  \n",
       "streaming_movies_No_internet_service                0  \n",
       "streaming_movies_Yes                                0  \n",
       "paperless_billing_Yes                               1  \n",
       "churn_Yes                                           1  \n",
       "payment_type_Credit_card_(automatic)                0  \n",
       "payment_type_Electronic_check                       0  \n",
       "payment_type_Mailed_check                           1  \n",
       "contract_type_One_year                              0  \n",
       "contract_type_Two_year                              0  \n",
       "internet_service_type_Fiber_optic                   1  \n",
       "internet_service_type_None                          0  "
      ]
     },
     "execution_count": 13,
     "metadata": {},
     "output_type": "execute_result"
    }
   ],
   "source": [
    "telco_clean.head().T"
   ]
  },
  {
   "cell_type": "code",
   "execution_count": 14,
   "id": "8559cb9e",
   "metadata": {},
   "outputs": [
    {
     "data": {
      "text/plain": [
       "(7043, 47)"
      ]
     },
     "execution_count": 14,
     "metadata": {},
     "output_type": "execute_result"
    }
   ],
   "source": [
    "telco_clean.shape"
   ]
  },
  {
   "cell_type": "code",
   "execution_count": 15,
   "id": "e7ad08cb",
   "metadata": {},
   "outputs": [
    {
     "data": {
      "text/plain": [
       "No     0.73472\n",
       "Yes    0.26528\n",
       "Name: churn, dtype: float64"
      ]
     },
     "execution_count": 15,
     "metadata": {},
     "output_type": "execute_result"
    }
   ],
   "source": [
    "train.churn.value_counts(normalize=True)"
   ]
  },
  {
   "cell_type": "markdown",
   "id": "66a3e5ec",
   "metadata": {},
   "source": [
    "# Explore\n",
    "\n",
    "### Bivariate\n",
    "    * Is contract type related to churn?\n",
    "    * Is internet service type related to churn?\n",
    "    * Are monthly charges related to churn?\n",
    "    * Are total charges related to churn?\n",
    "    \n",
    "### Multivariate\n",
    "    * Does the amount that month-to-month contract types pay relate to churn?\n",
    "    * Does the amount that fiber optic customers pay relate to churn?"
   ]
  },
  {
   "cell_type": "markdown",
   "id": "88c2c5b5",
   "metadata": {},
   "source": [
    "## Does contract type impact churn?"
   ]
  },
  {
   "cell_type": "code",
   "execution_count": 16,
   "id": "7b781cb8",
   "metadata": {},
   "outputs": [],
   "source": [
    "# create a crosstab between contract type and churn\n",
    "\n",
    "contract_crosstab = pd.crosstab(index=train['contract_type'], columns=train['churn'])"
   ]
  },
  {
   "cell_type": "code",
   "execution_count": 17,
   "id": "3bd57b7c",
   "metadata": {},
   "outputs": [
    {
     "data": {
      "image/png": "[encoded data removed]",
      "text/plain": [
       "<Figure size 640x480 with 1 Axes>"
      ]
     },
     "metadata": {},
     "output_type": "display_data"
    }
   ],
   "source": [
    "# visualize contract_type and churn\n",
    "\n",
    "contract_crosstab.plot.bar()\n",
    "plt.title(\"Month to Month Customers Have Higher Rate of Churn\")\n",
    "plt.show()"
   ]
  },
  {
   "cell_type": "markdown",
   "id": "0539c25e",
   "metadata": {},
   "source": [
    "* Visually, there is a significant difference in churn for customers with month-to-month contracts.\n",
    "\n",
    "\n",
    "**I will use a $\\chi^2$ test to see if there is statistical significance.**\n",
    "\n",
    "* I will use a confidence interval of 95% and an alpha of .05\n",
    "\n",
    "\n",
    "**$H_0$: Contract type and churn are independent of one another.**<br>\n",
    "**$H_A$: Contract type and churn are related.**"
   ]
  },
  {
   "cell_type": "code",
   "execution_count": 18,
   "id": "94081b84",
   "metadata": {},
   "outputs": [
    {
     "name": "stdout",
     "output_type": "stream",
     "text": [
      "p = 6.90388763811534e-154\n"
     ]
    }
   ],
   "source": [
    "alpha = .05\n",
    "chi2, p, degf, expected = stats.chi2_contingency(contract_crosstab)\n",
    "\n",
    "print(f'p = {p}')"
   ]
  },
  {
   "cell_type": "markdown",
   "id": "22859fff",
   "metadata": {},
   "source": [
    "**The p-value is less than the alpha. Therefore, we reject the null hypothesis and continue with the understanding that there is a relationship between contract type and churn.**"
   ]
  },
  {
   "cell_type": "markdown",
   "id": "27afda8e",
   "metadata": {},
   "source": [
    "## Does internet service type impact churn?"
   ]
  },
  {
   "cell_type": "code",
   "execution_count": 19,
   "id": "3eaa2899",
   "metadata": {},
   "outputs": [],
   "source": [
    "# create a crosstab of service type and churn\n",
    "\n",
    "internet_crosstab = pd.crosstab(index=train['internet_service_type'], columns=train['churn'])"
   ]
  },
  {
   "cell_type": "code",
   "execution_count": 20,
   "id": "5c799a9a",
   "metadata": {},
   "outputs": [
    {
     "data": {
      "image/png": "[encoded data removed]",
      "text/plain": [
       "<Figure size 640x480 with 1 Axes>"
      ]
     },
     "metadata": {},
     "output_type": "display_data"
    }
   ],
   "source": [
    "# visualize internet_service_type and churn\n",
    "\n",
    "internet_crosstab.plot.bar()\n",
    "plt.title(\"Fiber Optic Customers Have Higher Rate of Churn\")\n",
    "plt.show()"
   ]
  },
  {
   "cell_type": "markdown",
   "id": "45a82435",
   "metadata": {},
   "source": [
    "* Fiber optic customers have higher instances of churn than customers with DSL or no internet services.\n",
    "\n",
    "**I will use a $\\chi^2$ test to see if there is statistical significance.**\n",
    "\n",
    "* I will use a confidence interval of 95% and an alpha of .05\n",
    "\n",
    "\n",
    "**$H_0$: Internet service type and churn are independent of one another.**<br>\n",
    "**$H_A$: Internet servive type and churn are related.**"
   ]
  },
  {
   "cell_type": "code",
   "execution_count": 21,
   "id": "d26efe2d",
   "metadata": {},
   "outputs": [
    {
     "name": "stdout",
     "output_type": "stream",
     "text": [
      "p = 7.815797681295793e-98\n"
     ]
    }
   ],
   "source": [
    "alpha = .05\n",
    "\n",
    "chi2, p, degf, expected = stats.chi2_contingency(internet_crosstab)\n",
    "\n",
    "print(f'p = {p}')"
   ]
  },
  {
   "cell_type": "markdown",
   "id": "fa459d23",
   "metadata": {},
   "source": [
    "**The p-value is less than the alpha. Therefore, we reject the null hypothesis and continue with the understanding that there is a relationship between internet service type and churn.**"
   ]
  },
  {
   "cell_type": "markdown",
   "id": "7b82b685",
   "metadata": {},
   "source": [
    "## Do monthly charges impact churn?"
   ]
  },
  {
   "cell_type": "code",
   "execution_count": 22,
   "id": "52a6ec2c",
   "metadata": {},
   "outputs": [
    {
     "data": {
      "image/png": "[encoded data removed]",
      "text/plain": [
       "<Figure size 640x480 with 1 Axes>"
      ]
     },
     "metadata": {},
     "output_type": "display_data"
    }
   ],
   "source": [
    "# visualize monthy_charges and churn\n",
    "sns.boxplot(data=train, y='monthly_charges', x='churn')\n",
    "plt.title(\"Customers that Churn Have Higher Monthly Charges on Average\")\n",
    "plt.show()"
   ]
  },
  {
   "cell_type": "markdown",
   "id": "f7b648a8",
   "metadata": {},
   "source": [
    "* Customers that churn have a higher monthly cost on average.\n",
    "\n",
    "**I will use a Mann-Whitney u-test to determine any statistical significance.**\n",
    "* There is not a normal distribution.\n",
    "* The variances are not equal.\n",
    "* I will use a confidence interval of 95% and an alpha of .05.\n",
    "\n",
    "**$H_0$: Monthly charges of churn customers are lower than or equal to monthly charges of customers who do not churn.**<br>\n",
    "**$H_A$: Monthly charges of churn customers are greater than monthly charges of customers who do not churn.**"
   ]
  },
  {
   "cell_type": "code",
   "execution_count": 23,
   "id": "8dba25a5",
   "metadata": {},
   "outputs": [],
   "source": [
    "# separate churn and non churn customer data\n",
    "churn = train[train.churn =='Yes']\n",
    "no_churn = train[train.churn == 'No']"
   ]
  },
  {
   "cell_type": "code",
   "execution_count": 24,
   "id": "080df065",
   "metadata": {},
   "outputs": [
    {
     "name": "stdout",
     "output_type": "stream",
     "text": [
      "p = 2.5550310599436916e-32\n"
     ]
    }
   ],
   "source": [
    "# mann-whitney test for monthly charges\n",
    "t, p = stats.mannwhitneyu(churn.monthly_charges, no_churn.monthly_charges, alternative=\"greater\")\n",
    "\n",
    "print(f'p = {p}')"
   ]
  },
  {
   "cell_type": "markdown",
   "id": "e390c977",
   "metadata": {},
   "source": [
    "**The p-value is less than the alpha. Therefore, we reject the null hypothesis and continue with the understanding that customers who churn pay more in monthly charges than customers that do not churn.**"
   ]
  },
  {
   "cell_type": "code",
   "execution_count": 25,
   "id": "e4920dda",
   "metadata": {},
   "outputs": [
    {
     "data": {
      "image/png": "[encoded data removed]",
      "text/plain": [
       "<Figure size 640x480 with 1 Axes>"
      ]
     },
     "metadata": {},
     "output_type": "display_data"
    }
   ],
   "source": [
    "# show distribution of monthly charges of churn customers\n",
    "plt.hist(churn.monthly_charges)\n",
    "plt.show()"
   ]
  },
  {
   "cell_type": "code",
   "execution_count": 26,
   "id": "b8f65c6c",
   "metadata": {},
   "outputs": [
    {
     "data": {
      "image/png": "[encoded data removed]",
      "text/plain": [
       "<Figure size 640x480 with 1 Axes>"
      ]
     },
     "metadata": {},
     "output_type": "display_data"
    }
   ],
   "source": [
    "# distribution of monthly charges for customers that don't churn\n",
    "plt.hist(no_churn.monthly_charges)\n",
    "plt.show()"
   ]
  },
  {
   "cell_type": "code",
   "execution_count": 27,
   "id": "4fb5ad18",
   "metadata": {},
   "outputs": [
    {
     "data": {
      "text/plain": [
       "(561.2544773344791, 969.4465595255236)"
      ]
     },
     "execution_count": 27,
     "metadata": {},
     "output_type": "execute_result"
    }
   ],
   "source": [
    "# check the variances\n",
    "churn.monthly_charges.var(), no_churn.monthly_charges.var()"
   ]
  },
  {
   "cell_type": "markdown",
   "id": "d81a3002",
   "metadata": {},
   "source": [
    "## Do Total Charges Impact Customer Churn?"
   ]
  },
  {
   "cell_type": "code",
   "execution_count": 28,
   "id": "e63704dc",
   "metadata": {},
   "outputs": [
    {
     "data": {
      "image/png": "[encoded data removed]",
      "text/plain": [
       "<Figure size 640x480 with 1 Axes>"
      ]
     },
     "metadata": {},
     "output_type": "display_data"
    }
   ],
   "source": [
    "# visualize total_charges and churn\n",
    "\n",
    "sns.boxplot(data=train, x='churn', y='total_charges')\n",
    "plt.title(\"Total Charges for Churn Customers is Lower but with High Outliers\")\n",
    "plt.show()"
   ]
  },
  {
   "cell_type": "markdown",
   "id": "1f73fc2e",
   "metadata": {},
   "source": [
    "* Initially, from the visualization it appears that customers who churn pay less total charges than customers that do not. However, there are large number of high outliers for churn customers in the data.\n",
    "\n",
    "**I will use a Mann-Whitney u-test to determine any statistical significance.**\n",
    "* There is not a normal distribution.\n",
    "* The variances are not equal.\n",
    "* I will use a confidence interval of 95% and an alpha of .05.\n",
    "\n",
    "**$H_0$: Monthly charges of churn customers are lower than or equal to monthly charges of customers who do not churn.**<br>\n",
    "**$H_A$: Monthly charges of churn customers are greater than monthly charges of customers who do not churn.**"
   ]
  },
  {
   "cell_type": "code",
   "execution_count": 29,
   "id": "55530ea1",
   "metadata": {},
   "outputs": [
    {
     "name": "stdout",
     "output_type": "stream",
     "text": [
      "p = 1.0\n"
     ]
    }
   ],
   "source": [
    "# mann-whitney for total charges\n",
    "\n",
    "t, p = stats.mannwhitneyu(churn.total_charges, no_churn.total_charges,alternative=\"greater\")\n",
    "\n",
    "print(f'p = {p}')"
   ]
  },
  {
   "cell_type": "markdown",
   "id": "f713bd44",
   "metadata": {},
   "source": [
    "**The p-value is less than the alpha. Therefore, we fail to reject the null hypothesis and will leave total charges out of model.**"
   ]
  },
  {
   "cell_type": "code",
   "execution_count": 30,
   "id": "efbc43fc",
   "metadata": {},
   "outputs": [
    {
     "data": {
      "image/png": "[encoded data removed]",
      "text/plain": [
       "<Figure size 640x480 with 1 Axes>"
      ]
     },
     "metadata": {},
     "output_type": "display_data"
    }
   ],
   "source": [
    "# show distribution of total charges for churn customers\n",
    "plt.hist(churn.total_charges)\n",
    "plt.show()"
   ]
  },
  {
   "cell_type": "code",
   "execution_count": 31,
   "id": "7e32c6aa",
   "metadata": {},
   "outputs": [
    {
     "data": {
      "image/png": "[encoded data removed]",
      "text/plain": [
       "<Figure size 640x480 with 1 Axes>"
      ]
     },
     "metadata": {},
     "output_type": "display_data"
    }
   ],
   "source": [
    "# show distribution of total charges in non churn customers\n",
    "plt.hist(no_churn.total_charges)\n",
    "plt.show()"
   ]
  },
  {
   "cell_type": "code",
   "execution_count": 32,
   "id": "d956ad05",
   "metadata": {},
   "outputs": [
    {
     "data": {
      "text/plain": [
       "(3350213.3223284474, 5496108.169679938)"
      ]
     },
     "execution_count": 32,
     "metadata": {},
     "output_type": "execute_result"
    }
   ],
   "source": [
    "# check variances\n",
    "churn.total_charges.var(), no_churn.total_charges.var()"
   ]
  },
  {
   "cell_type": "markdown",
   "id": "25e443e1",
   "metadata": {},
   "source": [
    "## Does tenure have an impact on churn?"
   ]
  },
  {
   "cell_type": "code",
   "execution_count": 33,
   "id": "b7585037",
   "metadata": {},
   "outputs": [
    {
     "data": {
      "image/png": "[encoded data removed]",
      "text/plain": [
       "<Figure size 640x480 with 1 Axes>"
      ]
     },
     "metadata": {},
     "output_type": "display_data"
    }
   ],
   "source": [
    "# visualize tenure vs churn\n",
    "\n",
    "sns.boxplot(data=train, x=\"churn\", y=\"tenure\")\n",
    "plt.title(\"Customers Who Have Been with Company Longer Are Less Likely to Churn\")\n",
    "plt.show()"
   ]
  },
  {
   "cell_type": "markdown",
   "id": "052e0583",
   "metadata": {},
   "source": [
    "* It appears that customers with longer tenure are less likely to churn.\n",
    "\n",
    "**I will use a Mann-Whitney u-test to determine any statistical significance.**\n",
    "* There is not a normal distribution.\n",
    "* The variances are not equal.\n",
    "* I will use a confidence interval of 95% and an alpha of .05.\n",
    "\n",
    "**$H_0$: Tenure of churn customers is greater than or equal to tenure of customers who do not churn.**<br>\n",
    "**$H_A$: Tenure of churn customers is less than tenure of customers who do not churn.**"
   ]
  },
  {
   "cell_type": "code",
   "execution_count": 34,
   "id": "b34e8340",
   "metadata": {},
   "outputs": [
    {
     "name": "stdout",
     "output_type": "stream",
     "text": [
      "p = 3.0717692013909187e-130\n"
     ]
    }
   ],
   "source": [
    "# mann-whitney for tenure\n",
    "\n",
    "t, p = stats.mannwhitneyu(churn.tenure, no_churn.tenure, alternative='less')\n",
    "\n",
    "print(f'p = {p}')"
   ]
  },
  {
   "cell_type": "markdown",
   "id": "02f623b1",
   "metadata": {},
   "source": [
    "**The p-value is less than the alpha. Therefore, we reject the null hypothesis and continue with the understanding that customers who churn have shorter tenure than customers that do not churn.**"
   ]
  },
  {
   "cell_type": "code",
   "execution_count": 35,
   "id": "f4692cb7",
   "metadata": {},
   "outputs": [
    {
     "data": {
      "image/png": "[encoded data removed]",
      "text/plain": [
       "<Figure size 640x480 with 1 Axes>"
      ]
     },
     "metadata": {},
     "output_type": "display_data"
    }
   ],
   "source": [
    "#show distribution of tenure of churn customers\n",
    "\n",
    "plt.hist(churn.tenure)\n",
    "plt.show()"
   ]
  },
  {
   "cell_type": "code",
   "execution_count": 36,
   "id": "b08b3720",
   "metadata": {},
   "outputs": [
    {
     "data": {
      "image/png": "[encoded data removed]",
      "text/plain": [
       "<Figure size 640x480 with 1 Axes>"
      ]
     },
     "metadata": {},
     "output_type": "display_data"
    }
   ],
   "source": [
    "# show distribution of tenure of non churn customers\n",
    "\n",
    "plt.hist(no_churn.tenure)\n",
    "plt.show()"
   ]
  },
  {
   "cell_type": "code",
   "execution_count": 37,
   "id": "14c397a1",
   "metadata": {},
   "outputs": [
    {
     "data": {
      "text/plain": [
       "(362.52989195568534, 583.2358455212741)"
      ]
     },
     "execution_count": 37,
     "metadata": {},
     "output_type": "execute_result"
    }
   ],
   "source": [
    "# show variance\n",
    "churn.tenure.var(), no_churn.tenure.var()"
   ]
  },
  {
   "cell_type": "markdown",
   "id": "f15280df",
   "metadata": {},
   "source": [
    "## Exploration Summary\n",
    "\n",
    "* Contract type does have an impact on churn.<br>\n",
    "    * *Month to month customers have a significantly higher rate of churn.*<br>\n",
    "    \n",
    "* Internet Service Type does have an impact on churn.<br>\n",
    "    * *Fiber optics customers specifically have higher churn.*<br>\n",
    "    \n",
    "* Monthly charges do have an impact on churn. <br>\n",
    "\n",
    "* Total charges does not have an impact on churn <br>\n",
    "    * *Large number of outliers may have an impact on results.* <br>\n",
    "    \n",
    "* Tenure does have an impact on churn.\n",
    "    * *There is statistical significance, though also a number of outliers for churn customers.*<br>\n",
    "\n",
    "#### Features I will proceed with for model\n",
    "* Contract Type, Internet Service Type, Monthly Charges, and Tenure\n",
    "\n",
    "\n",
    "#### Features I will not proceed with for model\n",
    "* Total charges"
   ]
  },
  {
   "cell_type": "markdown",
   "id": "1f1c0274",
   "metadata": {},
   "source": [
    "## Modeling\n",
    "\n",
    "* I will use accuracy as my evaluation metric.\n",
    "* No churn makes up 74% of data.\n",
    "\n",
    "I will use the baseline of 74%, since guessing not churn for every customer would result in 74% accuracy.<br>\n",
    "I will use four different models types."
   ]
  },
  {
   "cell_type": "code",
   "execution_count": 38,
   "id": "7794a882",
   "metadata": {},
   "outputs": [
    {
     "data": {
      "text/html": [
       "<div>\n",
       "<style scoped>\n",
       "    .dataframe tbody tr th:only-of-type {\n",
       "        vertical-align: middle;\n",
       "    }\n",
       "\n",
       "    .dataframe tbody tr th {\n",
       "        vertical-align: top;\n",
       "    }\n",
       "\n",
       "    .dataframe thead th {\n",
       "        text-align: right;\n",
       "    }\n",
       "</style>\n",
       "<table border=\"1\" class=\"dataframe\">\n",
       "  <thead>\n",
       "    <tr style=\"text-align: right;\">\n",
       "      <th></th>\n",
       "      <th>4610</th>\n",
       "      <th>5700</th>\n",
       "      <th>5684</th>\n",
       "      <th>1508</th>\n",
       "      <th>4479</th>\n",
       "    </tr>\n",
       "  </thead>\n",
       "  <tbody>\n",
       "    <tr>\n",
       "      <th>gender</th>\n",
       "      <td>Female</td>\n",
       "      <td>Male</td>\n",
       "      <td>Female</td>\n",
       "      <td>Male</td>\n",
       "      <td>Male</td>\n",
       "    </tr>\n",
       "    <tr>\n",
       "      <th>senior_citizen</th>\n",
       "      <td>0</td>\n",
       "      <td>0</td>\n",
       "      <td>0</td>\n",
       "      <td>0</td>\n",
       "      <td>0</td>\n",
       "    </tr>\n",
       "    <tr>\n",
       "      <th>partner</th>\n",
       "      <td>Yes</td>\n",
       "      <td>Yes</td>\n",
       "      <td>Yes</td>\n",
       "      <td>Yes</td>\n",
       "      <td>Yes</td>\n",
       "    </tr>\n",
       "    <tr>\n",
       "      <th>dependents</th>\n",
       "      <td>Yes</td>\n",
       "      <td>No</td>\n",
       "      <td>Yes</td>\n",
       "      <td>Yes</td>\n",
       "      <td>Yes</td>\n",
       "    </tr>\n",
       "    <tr>\n",
       "      <th>tenure</th>\n",
       "      <td>14</td>\n",
       "      <td>50</td>\n",
       "      <td>35</td>\n",
       "      <td>27</td>\n",
       "      <td>49</td>\n",
       "    </tr>\n",
       "    <tr>\n",
       "      <th>phone_service</th>\n",
       "      <td>Yes</td>\n",
       "      <td>Yes</td>\n",
       "      <td>Yes</td>\n",
       "      <td>No</td>\n",
       "      <td>Yes</td>\n",
       "    </tr>\n",
       "    <tr>\n",
       "      <th>multiple_lines</th>\n",
       "      <td>No</td>\n",
       "      <td>Yes</td>\n",
       "      <td>No</td>\n",
       "      <td>No phone service</td>\n",
       "      <td>No</td>\n",
       "    </tr>\n",
       "    <tr>\n",
       "      <th>online_security</th>\n",
       "      <td>Yes</td>\n",
       "      <td>Yes</td>\n",
       "      <td>No internet service</td>\n",
       "      <td>No</td>\n",
       "      <td>Yes</td>\n",
       "    </tr>\n",
       "    <tr>\n",
       "      <th>online_backup</th>\n",
       "      <td>Yes</td>\n",
       "      <td>No</td>\n",
       "      <td>No internet service</td>\n",
       "      <td>Yes</td>\n",
       "      <td>Yes</td>\n",
       "    </tr>\n",
       "    <tr>\n",
       "      <th>device_protection</th>\n",
       "      <td>No</td>\n",
       "      <td>Yes</td>\n",
       "      <td>No internet service</td>\n",
       "      <td>Yes</td>\n",
       "      <td>No</td>\n",
       "    </tr>\n",
       "    <tr>\n",
       "      <th>tech_support</th>\n",
       "      <td>Yes</td>\n",
       "      <td>No</td>\n",
       "      <td>No internet service</td>\n",
       "      <td>No</td>\n",
       "      <td>Yes</td>\n",
       "    </tr>\n",
       "    <tr>\n",
       "      <th>streaming_tv</th>\n",
       "      <td>No</td>\n",
       "      <td>Yes</td>\n",
       "      <td>No internet service</td>\n",
       "      <td>No</td>\n",
       "      <td>No</td>\n",
       "    </tr>\n",
       "    <tr>\n",
       "      <th>streaming_movies</th>\n",
       "      <td>No</td>\n",
       "      <td>Yes</td>\n",
       "      <td>No internet service</td>\n",
       "      <td>Yes</td>\n",
       "      <td>No</td>\n",
       "    </tr>\n",
       "    <tr>\n",
       "      <th>paperless_billing</th>\n",
       "      <td>No</td>\n",
       "      <td>Yes</td>\n",
       "      <td>No</td>\n",
       "      <td>Yes</td>\n",
       "      <td>No</td>\n",
       "    </tr>\n",
       "    <tr>\n",
       "      <th>monthly_charges</th>\n",
       "      <td>59.45</td>\n",
       "      <td>103.95</td>\n",
       "      <td>19.65</td>\n",
       "      <td>45.85</td>\n",
       "      <td>59.6</td>\n",
       "    </tr>\n",
       "    <tr>\n",
       "      <th>total_charges</th>\n",
       "      <td>780.85</td>\n",
       "      <td>5231.3</td>\n",
       "      <td>708.8</td>\n",
       "      <td>1246.4</td>\n",
       "      <td>2970.3</td>\n",
       "    </tr>\n",
       "    <tr>\n",
       "      <th>churn</th>\n",
       "      <td>No</td>\n",
       "      <td>No</td>\n",
       "      <td>No</td>\n",
       "      <td>No</td>\n",
       "      <td>No</td>\n",
       "    </tr>\n",
       "    <tr>\n",
       "      <th>payment_type</th>\n",
       "      <td>Bank transfer (automatic)</td>\n",
       "      <td>Electronic check</td>\n",
       "      <td>Mailed check</td>\n",
       "      <td>Credit card (automatic)</td>\n",
       "      <td>Credit card (automatic)</td>\n",
       "    </tr>\n",
       "    <tr>\n",
       "      <th>contract_type</th>\n",
       "      <td>Month-to-month</td>\n",
       "      <td>One year</td>\n",
       "      <td>One year</td>\n",
       "      <td>One year</td>\n",
       "      <td>Month-to-month</td>\n",
       "    </tr>\n",
       "    <tr>\n",
       "      <th>internet_service_type</th>\n",
       "      <td>DSL</td>\n",
       "      <td>Fiber optic</td>\n",
       "      <td>None</td>\n",
       "      <td>DSL</td>\n",
       "      <td>DSL</td>\n",
       "    </tr>\n",
       "    <tr>\n",
       "      <th>gender_Male</th>\n",
       "      <td>0</td>\n",
       "      <td>1</td>\n",
       "      <td>0</td>\n",
       "      <td>1</td>\n",
       "      <td>1</td>\n",
       "    </tr>\n",
       "    <tr>\n",
       "      <th>partner_Yes</th>\n",
       "      <td>1</td>\n",
       "      <td>1</td>\n",
       "      <td>1</td>\n",
       "      <td>1</td>\n",
       "      <td>1</td>\n",
       "    </tr>\n",
       "    <tr>\n",
       "      <th>dependents_Yes</th>\n",
       "      <td>1</td>\n",
       "      <td>0</td>\n",
       "      <td>1</td>\n",
       "      <td>1</td>\n",
       "      <td>1</td>\n",
       "    </tr>\n",
       "    <tr>\n",
       "      <th>phone_service_Yes</th>\n",
       "      <td>1</td>\n",
       "      <td>1</td>\n",
       "      <td>1</td>\n",
       "      <td>0</td>\n",
       "      <td>1</td>\n",
       "    </tr>\n",
       "    <tr>\n",
       "      <th>multiple_lines_No_phone_service</th>\n",
       "      <td>0</td>\n",
       "      <td>0</td>\n",
       "      <td>0</td>\n",
       "      <td>1</td>\n",
       "      <td>0</td>\n",
       "    </tr>\n",
       "    <tr>\n",
       "      <th>multiple_lines_Yes</th>\n",
       "      <td>0</td>\n",
       "      <td>1</td>\n",
       "      <td>0</td>\n",
       "      <td>0</td>\n",
       "      <td>0</td>\n",
       "    </tr>\n",
       "    <tr>\n",
       "      <th>online_security_No_internet_service</th>\n",
       "      <td>0</td>\n",
       "      <td>0</td>\n",
       "      <td>1</td>\n",
       "      <td>0</td>\n",
       "      <td>0</td>\n",
       "    </tr>\n",
       "    <tr>\n",
       "      <th>online_security_Yes</th>\n",
       "      <td>1</td>\n",
       "      <td>1</td>\n",
       "      <td>0</td>\n",
       "      <td>0</td>\n",
       "      <td>1</td>\n",
       "    </tr>\n",
       "    <tr>\n",
       "      <th>online_backup_No_internet_service</th>\n",
       "      <td>0</td>\n",
       "      <td>0</td>\n",
       "      <td>1</td>\n",
       "      <td>0</td>\n",
       "      <td>0</td>\n",
       "    </tr>\n",
       "    <tr>\n",
       "      <th>online_backup_Yes</th>\n",
       "      <td>1</td>\n",
       "      <td>0</td>\n",
       "      <td>0</td>\n",
       "      <td>1</td>\n",
       "      <td>1</td>\n",
       "    </tr>\n",
       "    <tr>\n",
       "      <th>device_protection_No_internet_service</th>\n",
       "      <td>0</td>\n",
       "      <td>0</td>\n",
       "      <td>1</td>\n",
       "      <td>0</td>\n",
       "      <td>0</td>\n",
       "    </tr>\n",
       "    <tr>\n",
       "      <th>device_protection_Yes</th>\n",
       "      <td>0</td>\n",
       "      <td>1</td>\n",
       "      <td>0</td>\n",
       "      <td>1</td>\n",
       "      <td>0</td>\n",
       "    </tr>\n",
       "    <tr>\n",
       "      <th>tech_support_No_internet_service</th>\n",
       "      <td>0</td>\n",
       "      <td>0</td>\n",
       "      <td>1</td>\n",
       "      <td>0</td>\n",
       "      <td>0</td>\n",
       "    </tr>\n",
       "    <tr>\n",
       "      <th>tech_support_Yes</th>\n",
       "      <td>1</td>\n",
       "      <td>0</td>\n",
       "      <td>0</td>\n",
       "      <td>0</td>\n",
       "      <td>1</td>\n",
       "    </tr>\n",
       "    <tr>\n",
       "      <th>streaming_tv_No_internet_service</th>\n",
       "      <td>0</td>\n",
       "      <td>0</td>\n",
       "      <td>1</td>\n",
       "      <td>0</td>\n",
       "      <td>0</td>\n",
       "    </tr>\n",
       "    <tr>\n",
       "      <th>streaming_tv_Yes</th>\n",
       "      <td>0</td>\n",
       "      <td>1</td>\n",
       "      <td>0</td>\n",
       "      <td>0</td>\n",
       "      <td>0</td>\n",
       "    </tr>\n",
       "    <tr>\n",
       "      <th>streaming_movies_No_internet_service</th>\n",
       "      <td>0</td>\n",
       "      <td>0</td>\n",
       "      <td>1</td>\n",
       "      <td>0</td>\n",
       "      <td>0</td>\n",
       "    </tr>\n",
       "    <tr>\n",
       "      <th>streaming_movies_Yes</th>\n",
       "      <td>0</td>\n",
       "      <td>1</td>\n",
       "      <td>0</td>\n",
       "      <td>1</td>\n",
       "      <td>0</td>\n",
       "    </tr>\n",
       "    <tr>\n",
       "      <th>paperless_billing_Yes</th>\n",
       "      <td>0</td>\n",
       "      <td>1</td>\n",
       "      <td>0</td>\n",
       "      <td>1</td>\n",
       "      <td>0</td>\n",
       "    </tr>\n",
       "    <tr>\n",
       "      <th>churn_Yes</th>\n",
       "      <td>0</td>\n",
       "      <td>0</td>\n",
       "      <td>0</td>\n",
       "      <td>0</td>\n",
       "      <td>0</td>\n",
       "    </tr>\n",
       "    <tr>\n",
       "      <th>payment_type_Credit_card_(automatic)</th>\n",
       "      <td>0</td>\n",
       "      <td>0</td>\n",
       "      <td>0</td>\n",
       "      <td>1</td>\n",
       "      <td>1</td>\n",
       "    </tr>\n",
       "    <tr>\n",
       "      <th>payment_type_Electronic_check</th>\n",
       "      <td>0</td>\n",
       "      <td>1</td>\n",
       "      <td>0</td>\n",
       "      <td>0</td>\n",
       "      <td>0</td>\n",
       "    </tr>\n",
       "    <tr>\n",
       "      <th>payment_type_Mailed_check</th>\n",
       "      <td>0</td>\n",
       "      <td>0</td>\n",
       "      <td>1</td>\n",
       "      <td>0</td>\n",
       "      <td>0</td>\n",
       "    </tr>\n",
       "    <tr>\n",
       "      <th>contract_type_One_year</th>\n",
       "      <td>0</td>\n",
       "      <td>1</td>\n",
       "      <td>1</td>\n",
       "      <td>1</td>\n",
       "      <td>0</td>\n",
       "    </tr>\n",
       "    <tr>\n",
       "      <th>contract_type_Two_year</th>\n",
       "      <td>0</td>\n",
       "      <td>0</td>\n",
       "      <td>0</td>\n",
       "      <td>0</td>\n",
       "      <td>0</td>\n",
       "    </tr>\n",
       "    <tr>\n",
       "      <th>internet_service_type_Fiber_optic</th>\n",
       "      <td>0</td>\n",
       "      <td>1</td>\n",
       "      <td>0</td>\n",
       "      <td>0</td>\n",
       "      <td>0</td>\n",
       "    </tr>\n",
       "    <tr>\n",
       "      <th>internet_service_type_None</th>\n",
       "      <td>0</td>\n",
       "      <td>0</td>\n",
       "      <td>1</td>\n",
       "      <td>0</td>\n",
       "      <td>0</td>\n",
       "    </tr>\n",
       "  </tbody>\n",
       "</table>\n",
       "</div>"
      ],
      "text/plain": [
       "                                                            4610  \\\n",
       "gender                                                    Female   \n",
       "senior_citizen                                                 0   \n",
       "partner                                                      Yes   \n",
       "dependents                                                   Yes   \n",
       "tenure                                                        14   \n",
       "phone_service                                                Yes   \n",
       "multiple_lines                                                No   \n",
       "online_security                                              Yes   \n",
       "online_backup                                                Yes   \n",
       "device_protection                                             No   \n",
       "tech_support                                                 Yes   \n",
       "streaming_tv                                                  No   \n",
       "streaming_movies                                              No   \n",
       "paperless_billing                                             No   \n",
       "monthly_charges                                            59.45   \n",
       "total_charges                                             780.85   \n",
       "churn                                                         No   \n",
       "payment_type                           Bank transfer (automatic)   \n",
       "contract_type                                     Month-to-month   \n",
       "internet_service_type                                        DSL   \n",
       "gender_Male                                                    0   \n",
       "partner_Yes                                                    1   \n",
       "dependents_Yes                                                 1   \n",
       "phone_service_Yes                                              1   \n",
       "multiple_lines_No_phone_service                                0   \n",
       "multiple_lines_Yes                                             0   \n",
       "online_security_No_internet_service                            0   \n",
       "online_security_Yes                                            1   \n",
       "online_backup_No_internet_service                              0   \n",
       "online_backup_Yes                                              1   \n",
       "device_protection_No_internet_service                          0   \n",
       "device_protection_Yes                                          0   \n",
       "tech_support_No_internet_service                               0   \n",
       "tech_support_Yes                                               1   \n",
       "streaming_tv_No_internet_service                               0   \n",
       "streaming_tv_Yes                                               0   \n",
       "streaming_movies_No_internet_service                           0   \n",
       "streaming_movies_Yes                                           0   \n",
       "paperless_billing_Yes                                          0   \n",
       "churn_Yes                                                      0   \n",
       "payment_type_Credit_card_(automatic)                           0   \n",
       "payment_type_Electronic_check                                  0   \n",
       "payment_type_Mailed_check                                      0   \n",
       "contract_type_One_year                                         0   \n",
       "contract_type_Two_year                                         0   \n",
       "internet_service_type_Fiber_optic                              0   \n",
       "internet_service_type_None                                     0   \n",
       "\n",
       "                                                   5700                 5684  \\\n",
       "gender                                             Male               Female   \n",
       "senior_citizen                                        0                    0   \n",
       "partner                                             Yes                  Yes   \n",
       "dependents                                           No                  Yes   \n",
       "tenure                                               50                   35   \n",
       "phone_service                                       Yes                  Yes   \n",
       "multiple_lines                                      Yes                   No   \n",
       "online_security                                     Yes  No internet service   \n",
       "online_backup                                        No  No internet service   \n",
       "device_protection                                   Yes  No internet service   \n",
       "tech_support                                         No  No internet service   \n",
       "streaming_tv                                        Yes  No internet service   \n",
       "streaming_movies                                    Yes  No internet service   \n",
       "paperless_billing                                   Yes                   No   \n",
       "monthly_charges                                  103.95                19.65   \n",
       "total_charges                                    5231.3                708.8   \n",
       "churn                                                No                   No   \n",
       "payment_type                           Electronic check         Mailed check   \n",
       "contract_type                                  One year             One year   \n",
       "internet_service_type                       Fiber optic                 None   \n",
       "gender_Male                                           1                    0   \n",
       "partner_Yes                                           1                    1   \n",
       "dependents_Yes                                        0                    1   \n",
       "phone_service_Yes                                     1                    1   \n",
       "multiple_lines_No_phone_service                       0                    0   \n",
       "multiple_lines_Yes                                    1                    0   \n",
       "online_security_No_internet_service                   0                    1   \n",
       "online_security_Yes                                   1                    0   \n",
       "online_backup_No_internet_service                     0                    1   \n",
       "online_backup_Yes                                     0                    0   \n",
       "device_protection_No_internet_service                 0                    1   \n",
       "device_protection_Yes                                 1                    0   \n",
       "tech_support_No_internet_service                      0                    1   \n",
       "tech_support_Yes                                      0                    0   \n",
       "streaming_tv_No_internet_service                      0                    1   \n",
       "streaming_tv_Yes                                      1                    0   \n",
       "streaming_movies_No_internet_service                  0                    1   \n",
       "streaming_movies_Yes                                  1                    0   \n",
       "paperless_billing_Yes                                 1                    0   \n",
       "churn_Yes                                             0                    0   \n",
       "payment_type_Credit_card_(automatic)                  0                    0   \n",
       "payment_type_Electronic_check                         1                    0   \n",
       "payment_type_Mailed_check                             0                    1   \n",
       "contract_type_One_year                                1                    1   \n",
       "contract_type_Two_year                                0                    0   \n",
       "internet_service_type_Fiber_optic                     1                    0   \n",
       "internet_service_type_None                            0                    1   \n",
       "\n",
       "                                                          1508  \\\n",
       "gender                                                    Male   \n",
       "senior_citizen                                               0   \n",
       "partner                                                    Yes   \n",
       "dependents                                                 Yes   \n",
       "tenure                                                      27   \n",
       "phone_service                                               No   \n",
       "multiple_lines                                No phone service   \n",
       "online_security                                             No   \n",
       "online_backup                                              Yes   \n",
       "device_protection                                          Yes   \n",
       "tech_support                                                No   \n",
       "streaming_tv                                                No   \n",
       "streaming_movies                                           Yes   \n",
       "paperless_billing                                          Yes   \n",
       "monthly_charges                                          45.85   \n",
       "total_charges                                           1246.4   \n",
       "churn                                                       No   \n",
       "payment_type                           Credit card (automatic)   \n",
       "contract_type                                         One year   \n",
       "internet_service_type                                      DSL   \n",
       "gender_Male                                                  1   \n",
       "partner_Yes                                                  1   \n",
       "dependents_Yes                                               1   \n",
       "phone_service_Yes                                            0   \n",
       "multiple_lines_No_phone_service                              1   \n",
       "multiple_lines_Yes                                           0   \n",
       "online_security_No_internet_service                          0   \n",
       "online_security_Yes                                          0   \n",
       "online_backup_No_internet_service                            0   \n",
       "online_backup_Yes                                            1   \n",
       "device_protection_No_internet_service                        0   \n",
       "device_protection_Yes                                        1   \n",
       "tech_support_No_internet_service                             0   \n",
       "tech_support_Yes                                             0   \n",
       "streaming_tv_No_internet_service                             0   \n",
       "streaming_tv_Yes                                             0   \n",
       "streaming_movies_No_internet_service                         0   \n",
       "streaming_movies_Yes                                         1   \n",
       "paperless_billing_Yes                                        1   \n",
       "churn_Yes                                                    0   \n",
       "payment_type_Credit_card_(automatic)                         1   \n",
       "payment_type_Electronic_check                                0   \n",
       "payment_type_Mailed_check                                    0   \n",
       "contract_type_One_year                                       1   \n",
       "contract_type_Two_year                                       0   \n",
       "internet_service_type_Fiber_optic                            0   \n",
       "internet_service_type_None                                   0   \n",
       "\n",
       "                                                          4479  \n",
       "gender                                                    Male  \n",
       "senior_citizen                                               0  \n",
       "partner                                                    Yes  \n",
       "dependents                                                 Yes  \n",
       "tenure                                                      49  \n",
       "phone_service                                              Yes  \n",
       "multiple_lines                                              No  \n",
       "online_security                                            Yes  \n",
       "online_backup                                              Yes  \n",
       "device_protection                                           No  \n",
       "tech_support                                               Yes  \n",
       "streaming_tv                                                No  \n",
       "streaming_movies                                            No  \n",
       "paperless_billing                                           No  \n",
       "monthly_charges                                           59.6  \n",
       "total_charges                                           2970.3  \n",
       "churn                                                       No  \n",
       "payment_type                           Credit card (automatic)  \n",
       "contract_type                                   Month-to-month  \n",
       "internet_service_type                                      DSL  \n",
       "gender_Male                                                  1  \n",
       "partner_Yes                                                  1  \n",
       "dependents_Yes                                               1  \n",
       "phone_service_Yes                                            1  \n",
       "multiple_lines_No_phone_service                              0  \n",
       "multiple_lines_Yes                                           0  \n",
       "online_security_No_internet_service                          0  \n",
       "online_security_Yes                                          1  \n",
       "online_backup_No_internet_service                            0  \n",
       "online_backup_Yes                                            1  \n",
       "device_protection_No_internet_service                        0  \n",
       "device_protection_Yes                                        0  \n",
       "tech_support_No_internet_service                             0  \n",
       "tech_support_Yes                                             1  \n",
       "streaming_tv_No_internet_service                             0  \n",
       "streaming_tv_Yes                                             0  \n",
       "streaming_movies_No_internet_service                         0  \n",
       "streaming_movies_Yes                                         0  \n",
       "paperless_billing_Yes                                        0  \n",
       "churn_Yes                                                    0  \n",
       "payment_type_Credit_card_(automatic)                         1  \n",
       "payment_type_Electronic_check                                0  \n",
       "payment_type_Mailed_check                                    0  \n",
       "contract_type_One_year                                       0  \n",
       "contract_type_Two_year                                       0  \n",
       "internet_service_type_Fiber_optic                            0  \n",
       "internet_service_type_None                                   0  "
      ]
     },
     "execution_count": 38,
     "metadata": {},
     "output_type": "execute_result"
    }
   ],
   "source": [
    "train.head().T"
   ]
  },
  {
   "cell_type": "code",
   "execution_count": 39,
   "id": "d7dabaa6",
   "metadata": {},
   "outputs": [],
   "source": [
    "# drop columns that won't be used in model\n",
    "\n",
    "use_cols = ['churn_Yes', 'contract_type_One_year',\n",
    "           'contract_type_Two_year',\n",
    "           'tenure',\n",
    "           'monthly_charges',\n",
    "           'internet_service_type_Fiber_optic',\n",
    "           'internet_service_type_None',]\n",
    "\n",
    "train = train[use_cols]\n",
    "validate = validate[use_cols]\n",
    "test = test[use_cols]\n",
    "\n",
    "# make model variables\n",
    "\n",
    "X_train = train.drop(columns='churn_Yes')\n",
    "y_train = train.churn_Yes\n",
    "\n",
    "X_val = validate.drop(columns='churn_Yes')\n",
    "y_val = validate.churn_Yes\n",
    "\n",
    "X_test = test.drop(columns='churn_Yes')\n",
    "y_test = test.churn_Yes"
   ]
  },
  {
   "cell_type": "markdown",
   "id": "6b258ada",
   "metadata": {},
   "source": [
    "### Decision Tree"
   ]
  },
  {
   "cell_type": "code",
   "execution_count": 40,
   "id": "01187365",
   "metadata": {},
   "outputs": [],
   "source": [
    "# create model\n",
    "clf = DecisionTreeClassifier(max_depth=3, random_state=311)"
   ]
  },
  {
   "cell_type": "code",
   "execution_count": 41,
   "id": "6b59c8b6",
   "metadata": {},
   "outputs": [],
   "source": [
    "# fit the model\n",
    "clf = clf.fit(X_train, y_train)"
   ]
  },
  {
   "cell_type": "code",
   "execution_count": 42,
   "id": "61eb5e2b",
   "metadata": {},
   "outputs": [],
   "source": [
    "y_pred_clf = clf.predict(X_train)"
   ]
  },
  {
   "cell_type": "code",
   "execution_count": 43,
   "id": "5050870c",
   "metadata": {},
   "outputs": [],
   "source": [
    "y_pred_proba_clf = clf.predict_proba(X_train)"
   ]
  },
  {
   "cell_type": "code",
   "execution_count": 44,
   "id": "f5d57047",
   "metadata": {},
   "outputs": [
    {
     "name": "stdout",
     "output_type": "stream",
     "text": [
      "Accuracy of Decision Tree classifier on training set: 0.80\n"
     ]
    }
   ],
   "source": [
    "print('Accuracy of Decision Tree classifier on training set: {:.2f}'\n",
    "      .format(clf.score(X_train, y_train)))"
   ]
  },
  {
   "cell_type": "code",
   "execution_count": 45,
   "id": "91ce9108",
   "metadata": {},
   "outputs": [
    {
     "name": "stdout",
     "output_type": "stream",
     "text": [
      "Accuracy of Decision Tree classifier on validate set: 0.77\n"
     ]
    }
   ],
   "source": [
    "print('Accuracy of Decision Tree classifier on validate set: {:.2f}'\n",
    "      .format(clf.score(X_val, y_val)))"
   ]
  },
  {
   "cell_type": "code",
   "execution_count": 46,
   "id": "71b0c569",
   "metadata": {},
   "outputs": [
    {
     "name": "stdout",
     "output_type": "stream",
     "text": [
      "              precision    recall  f1-score   support\n",
      "\n",
      "           0       0.82      0.93      0.87      2897\n",
      "           1       0.69      0.41      0.52      1046\n",
      "\n",
      "    accuracy                           0.80      3943\n",
      "   macro avg       0.75      0.67      0.70      3943\n",
      "weighted avg       0.78      0.80      0.78      3943\n",
      "\n"
     ]
    }
   ],
   "source": [
    "# classification report\n",
    "\n",
    "print(classification_report(y_train, y_pred_clf))\n"
   ]
  },
  {
   "cell_type": "markdown",
   "id": "2f7e7793",
   "metadata": {},
   "source": [
    "* Accuracy for Decision Tree is better than baseline on train and slightly better than baseline on validate."
   ]
  },
  {
   "cell_type": "markdown",
   "id": "b5a649b5",
   "metadata": {},
   "source": [
    "## Random Forest"
   ]
  },
  {
   "cell_type": "code",
   "execution_count": 47,
   "id": "46a3bbc1",
   "metadata": {},
   "outputs": [],
   "source": [
    "# create the model\n",
    "rf = RandomForestClassifier(max_depth=3, min_samples_leaf=3, random_state=311)"
   ]
  },
  {
   "cell_type": "code",
   "execution_count": 48,
   "id": "9030624a",
   "metadata": {},
   "outputs": [],
   "source": [
    "# fit the model\n",
    "rf = rf.fit(X_train, y_train)"
   ]
  },
  {
   "cell_type": "code",
   "execution_count": 49,
   "id": "d05bf99b",
   "metadata": {},
   "outputs": [],
   "source": [
    "y_pred_rf = rf.predict(X_train)"
   ]
  },
  {
   "cell_type": "code",
   "execution_count": 50,
   "id": "084d3f3b",
   "metadata": {},
   "outputs": [],
   "source": [
    "y_pred_proba_rf = rf.predict_proba(X_train)"
   ]
  },
  {
   "cell_type": "code",
   "execution_count": 51,
   "id": "2c68e8cf",
   "metadata": {},
   "outputs": [
    {
     "name": "stdout",
     "output_type": "stream",
     "text": [
      "Accuracy of random forest classifier on training set: 0.80\n"
     ]
    }
   ],
   "source": [
    "# accuracy for training data\n",
    "print('Accuracy of random forest classifier on training set: {:.2f}'\n",
    "     .format(rf.score(X_train, y_train)))"
   ]
  },
  {
   "cell_type": "code",
   "execution_count": 52,
   "id": "c7c64849",
   "metadata": {},
   "outputs": [
    {
     "name": "stdout",
     "output_type": "stream",
     "text": [
      "Accuracy of random forest classifier on validate set: 0.78\n"
     ]
    }
   ],
   "source": [
    "# accuracy for validate data\n",
    "print('Accuracy of random forest classifier on validate set: {:.2f}'\n",
    "     .format(rf.score(X_val, y_val)))"
   ]
  },
  {
   "cell_type": "code",
   "execution_count": 53,
   "id": "53297a0e",
   "metadata": {},
   "outputs": [
    {
     "name": "stdout",
     "output_type": "stream",
     "text": [
      "              precision    recall  f1-score   support\n",
      "\n",
      "           0       0.82      0.94      0.87      2897\n",
      "           1       0.70      0.41      0.52      1046\n",
      "\n",
      "    accuracy                           0.80      3943\n",
      "   macro avg       0.76      0.68      0.70      3943\n",
      "weighted avg       0.79      0.80      0.78      3943\n",
      "\n"
     ]
    }
   ],
   "source": [
    "# classification report\n",
    "print(classification_report(y_train, y_pred_rf))"
   ]
  },
  {
   "cell_type": "markdown",
   "id": "8dd5b611",
   "metadata": {},
   "source": [
    "* Accuracy for Random Forest is better than baseline on train and slightly better than baseline on validate."
   ]
  },
  {
   "cell_type": "markdown",
   "id": "5abe7b6f",
   "metadata": {},
   "source": [
    "## KNN"
   ]
  },
  {
   "cell_type": "code",
   "execution_count": 54,
   "id": "7cdd8868",
   "metadata": {},
   "outputs": [],
   "source": [
    "# create model\n",
    "knn = KNeighborsClassifier(n_neighbors=5, weights='uniform')"
   ]
  },
  {
   "cell_type": "code",
   "execution_count": 55,
   "id": "08024b06",
   "metadata": {},
   "outputs": [],
   "source": [
    "# fit the model\n",
    "knn = knn.fit(X_train, y_train)"
   ]
  },
  {
   "cell_type": "code",
   "execution_count": 56,
   "id": "7fb1389a",
   "metadata": {},
   "outputs": [],
   "source": [
    "y_pred_knn = knn.predict(X_train)"
   ]
  },
  {
   "cell_type": "code",
   "execution_count": 57,
   "id": "d1604443",
   "metadata": {},
   "outputs": [],
   "source": [
    "y_pred_proba_knn = knn.predict_proba(X_train)"
   ]
  },
  {
   "cell_type": "code",
   "execution_count": 58,
   "id": "d1c45460",
   "metadata": {},
   "outputs": [
    {
     "name": "stdout",
     "output_type": "stream",
     "text": [
      "Accuracy of KNN classifier on training set: 0.84\n"
     ]
    }
   ],
   "source": [
    "# accuracy for training data\n",
    "print('Accuracy of KNN classifier on training set: {:.2f}'\n",
    "     .format(knn.score(X_train, y_train)))"
   ]
  },
  {
   "cell_type": "code",
   "execution_count": 59,
   "id": "fbbbc504",
   "metadata": {},
   "outputs": [
    {
     "name": "stdout",
     "output_type": "stream",
     "text": [
      "Accuracy of KNN classifier on validate set: 0.75\n"
     ]
    }
   ],
   "source": [
    "#accuracy for validate data\n",
    "print('Accuracy of KNN classifier on validate set: {:.2f}'\n",
    "     .format(knn.score(X_val, y_val)))"
   ]
  },
  {
   "cell_type": "code",
   "execution_count": 60,
   "id": "1d432f4b",
   "metadata": {},
   "outputs": [
    {
     "name": "stdout",
     "output_type": "stream",
     "text": [
      "              precision    recall  f1-score   support\n",
      "\n",
      "           0       0.88      0.91      0.89      2897\n",
      "           1       0.72      0.64      0.68      1046\n",
      "\n",
      "    accuracy                           0.84      3943\n",
      "   macro avg       0.80      0.78      0.79      3943\n",
      "weighted avg       0.84      0.84      0.84      3943\n",
      "\n"
     ]
    }
   ],
   "source": [
    "# classification report\n",
    "print(classification_report(y_train, y_pred_knn))"
   ]
  },
  {
   "cell_type": "markdown",
   "id": "6ca69e0b",
   "metadata": {},
   "source": [
    "* Accuracy for KNN is better than baseline on train and slightly better than baseline on validate."
   ]
  },
  {
   "cell_type": "markdown",
   "id": "394f51ac",
   "metadata": {},
   "source": [
    "## Logistic Regression"
   ]
  },
  {
   "cell_type": "code",
   "execution_count": 61,
   "id": "4b21b680",
   "metadata": {},
   "outputs": [],
   "source": [
    "# create model\n",
    "logit = LogisticRegression(C=1, class_weight={0: 1, 1: 99}, random_state=311)"
   ]
  },
  {
   "cell_type": "code",
   "execution_count": 62,
   "id": "7d9b8f5c",
   "metadata": {},
   "outputs": [],
   "source": [
    "logit = logit.fit(X_train, y_train)"
   ]
  },
  {
   "cell_type": "code",
   "execution_count": 63,
   "id": "822f90fa",
   "metadata": {},
   "outputs": [],
   "source": [
    "y_pred_logit = logit.predict(X_train)"
   ]
  },
  {
   "cell_type": "code",
   "execution_count": 64,
   "id": "2906280c",
   "metadata": {},
   "outputs": [],
   "source": [
    "y_pred_proba_logit = logit.predict_proba(X_train)"
   ]
  },
  {
   "cell_type": "code",
   "execution_count": 65,
   "id": "0a0d93d9",
   "metadata": {},
   "outputs": [
    {
     "name": "stdout",
     "output_type": "stream",
     "text": [
      "Accuracy of Logistic Regression classifier on training set: 0.33\n"
     ]
    }
   ],
   "source": [
    "print('Accuracy of Logistic Regression classifier on training set: {:.2f}'\n",
    "     .format(logit.score(X_train, y_train)))"
   ]
  },
  {
   "cell_type": "code",
   "execution_count": 66,
   "id": "bcc14eef",
   "metadata": {},
   "outputs": [
    {
     "name": "stdout",
     "output_type": "stream",
     "text": [
      "Accuracy of Logistic Regression classifier on validate set: 0.33\n"
     ]
    }
   ],
   "source": [
    "print('Accuracy of Logistic Regression classifier on validate set: {:.2f}'\n",
    "     .format(logit.score(X_val, y_val)))"
   ]
  },
  {
   "cell_type": "code",
   "execution_count": 67,
   "id": "f7e45711",
   "metadata": {},
   "outputs": [
    {
     "name": "stdout",
     "output_type": "stream",
     "text": [
      "              precision    recall  f1-score   support\n",
      "\n",
      "           0       1.00      0.09      0.17      2897\n",
      "           1       0.28      1.00      0.44      1046\n",
      "\n",
      "    accuracy                           0.33      3943\n",
      "   macro avg       0.64      0.55      0.31      3943\n",
      "weighted avg       0.81      0.33      0.24      3943\n",
      "\n"
     ]
    }
   ],
   "source": [
    "print(classification_report(y_train, y_pred_logit))"
   ]
  },
  {
   "cell_type": "markdown",
   "id": "f2df6b28",
   "metadata": {},
   "source": [
    "* Accuracy for Logistic Regression is worse than baseline for both training and validate data."
   ]
  },
  {
   "cell_type": "code",
   "execution_count": null,
   "id": "1b938ce0",
   "metadata": {},
   "outputs": [],
   "source": []
  }
 ],
 "metadata": {
  "kernelspec": {
   "display_name": "Python 3 (ipykernel)",
   "language": "python",
   "name": "python3"
  },
  "language_info": {
   "codemirror_mode": {
    "name": "ipython",
    "version": 3
   },
   "file_extension": ".py",
   "mimetype": "text/x-python",
   "name": "python",
   "nbconvert_exporter": "python",
   "pygments_lexer": "ipython3",
   "version": "3.10.9"
  }
 },
 "nbformat": 4,
 "nbformat_minor": 5
}
